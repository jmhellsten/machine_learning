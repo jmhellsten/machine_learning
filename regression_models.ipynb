{
 "cells": [
  {
   "cell_type": "markdown",
   "id": "0931e133",
   "metadata": {},
   "source": [
    "# Machine Learning: Regression methods"
   ]
  },
  {
   "cell_type": "code",
   "execution_count": 1,
   "id": "ab39b16b",
   "metadata": {
    "ExecuteTime": {
     "end_time": "2024-12-12T13:45:36.413497Z",
     "start_time": "2024-12-12T13:45:36.406091Z"
    }
   },
   "outputs": [],
   "source": [
    "student_name = 'Juha-Matti Hellsten'"
   ]
  },
  {
   "cell_type": "markdown",
   "id": "a8ddb44f",
   "metadata": {},
   "source": [
    "## Preprocess the data\n",
    "### Topic: Productivity of textile workers\n",
    "\n",
    "1. Explore and download the data from [https://archive.ics.uci.edu/ml/datasets/Productivity+Prediction+of+Garment+Employees#](https://archive.ics.uci.edu/ml/datasets/Productivity+Prediction+of+Garment+Employees#). Load the data into the DataFrame.\n",
    "\n",
    "2. Remove background variables from the analyzed data.\n",
    "\n",
    "3. Decide what to do with the missing values.\n",
    "\n",
    "4. Normalize the data.\n",
    "\n",
    "5. Additionally, create a new class variable with a value of 0 if the productivity is less than 0.5 and with a value of 1 if the productivity is above 0.5. Store this in the df variable as column `class`. That will be used in classification assignment (4.3)."
   ]
  },
  {
   "cell_type": "code",
   "execution_count": 211,
   "id": "38fb1b22",
   "metadata": {
    "ExecuteTime": {
     "end_time": "2024-12-12T13:45:39.747356Z",
     "start_time": "2024-12-12T13:45:36.432455Z"
    },
    "lines_to_next_cell": 2
   },
   "outputs": [],
   "source": [
    "# TODO: Write your code in this cell.\n",
    "\n",
    "# TODO: Data Preprocessing\n",
    "import pandas as pd\n",
    "import numpy as np\n",
    "from sklearn.preprocessing import StandardScaler\n",
    "\n",
    "df = pd.read_csv(\"garments_worker_productivity.csv\")\n",
    "\n",
    "df_cleaned = df.drop(columns=['date', 'quarter', 'department', 'day'])\n",
    "df_cleaned['wip'] = df_cleaned['wip'].fillna(df_cleaned['wip'].median())\n",
    "\n",
    "numeric_columns = df_cleaned.select_dtypes(include=['float64', 'int64']).columns\n",
    "scaler = StandardScaler()\n",
    "\n",
    "df_cleaned[numeric_columns] = scaler.fit_transform(df_cleaned[numeric_columns])\n",
    "df_cleaned['class'] = (df_cleaned['actual_productivity'] > 0.5).astype(int)"
   ]
  },
  {
   "cell_type": "code",
   "execution_count": 212,
   "id": "6295a75b",
   "metadata": {
    "ExecuteTime": {
     "end_time": "2024-12-12T13:45:39.943471Z",
     "start_time": "2024-12-12T13:45:39.934160Z"
    }
   },
   "outputs": [
    {
     "name": "stdout",
     "output_type": "stream",
     "text": [
      "Columns: Index(['date', 'quarter', 'department', 'day', 'team', 'targeted_productivity',\n",
      "       'smv', 'wip', 'over_time', 'incentive', 'idle_time', 'idle_men',\n",
      "       'no_of_style_change', 'no_of_workers', 'actual_productivity'],\n",
      "      dtype='object')\n",
      "First row by position: date                     1/1/2015\n",
      "quarter                  Quarter1\n",
      "department                 sweing\n",
      "day                      Thursday\n",
      "team                            8\n",
      "targeted_productivity         0.8\n",
      "smv                         26.16\n",
      "wip                        1108.0\n",
      "over_time                    7080\n",
      "incentive                      98\n",
      "idle_time                     0.0\n",
      "idle_men                        0\n",
      "no_of_style_change              0\n",
      "no_of_workers                59.0\n",
      "actual_productivity      0.940725\n",
      "Name: 0, dtype: object\n"
     ]
    }
   ],
   "source": [
    "# Answers to the assignment. Note! Do not edit this cell, just run it after you complete the assignment.\n",
    "# Save the DataFrame to the df variable and the training data.\n",
    "print(f'Columns: {df.columns}')\n",
    "print(f'First row by position: {df.iloc[0]}')"
   ]
  },
  {
   "cell_type": "markdown",
   "id": "572cbbba",
   "metadata": {},
   "source": [
    "## Regression using a Linear Regression model\n",
    "\n",
    "1. Split the data into training (67%) and testing data (33%), also saving the class variables as their own vectors (`X_train`, `y_train`, `X_test`, `y_test`). Use random seed `2150`.\n",
    "\n",
    "Tip: don't put the columns `actual_productivity` or `class` in the input variables (features).\n",
    "\n",
    "2. Use the [functions](https://scikit-learn.org/stable/modules/classes.html#module-sklearn.ensemble) from `ensemble` module\n",
    "of the `scikit-learn` library and create a regression model using a linear regressor. So you try to predict the `actual_productivity` variable.\n",
    "\n",
    "Use random seed `2100`.\n",
    "\n",
    "3. Predict the `actual_productivity` of the test dataset. Record the explained variance `exp_var` and\n",
    "the maximum error `max_err` using the tools in the `metrics` module of the library."
   ]
  },
  {
   "cell_type": "code",
   "execution_count": 213,
   "id": "c67101d5",
   "metadata": {
    "ExecuteTime": {
     "end_time": "2024-12-12T13:45:39.979739Z",
     "start_time": "2024-12-12T13:45:39.974827Z"
    }
   },
   "outputs": [],
   "source": [
    "# TODO: Write your code in this cell\n",
    "from sklearn.model_selection import train_test_split\n",
    "from sklearn.linear_model import LinearRegression\n",
    "from sklearn.metrics import explained_variance_score, max_error\n",
    "\n",
    "X = df_cleaned.drop(['actual_productivity', 'class'], axis=1)\n",
    "y = df_cleaned['actual_productivity']\n",
    "\n",
    "# TODO: Split the data into training (67%) and testing data (33%)\n",
    "\n",
    "X_train, X_test, y_train, y_test = train_test_split(\n",
    "    X, y, \n",
    "    test_size=0.33, \n",
    "    random_state=2150)"
   ]
  },
  {
   "cell_type": "code",
   "execution_count": 214,
   "id": "91a18ad3",
   "metadata": {
    "ExecuteTime": {
     "end_time": "2024-12-12T13:45:40.031757Z",
     "start_time": "2024-12-12T13:45:40.025879Z"
    }
   },
   "outputs": [
    {
     "name": "stdout",
     "output_type": "stream",
     "text": [
      "Explained variance: 0.25190257653534986\n",
      "Maximum error: 3.0425157848705844\n"
     ]
    }
   ],
   "source": [
    "# TODO: Create and test Linear regression model\n",
    "\n",
    "model = LinearRegression()\n",
    "model.fit(X_train, y_train)\n",
    "\n",
    "y_pred = model.predict(X_test)\n",
    "\n",
    "exp_var = explained_variance_score(y_test, y_pred)\n",
    "max_err = max_error(y_test, y_pred)\n",
    "\n",
    "weights = X_test['targeted_productivity']\n",
    "weights = (weights - weights.min()) / (weights.max() - weights.min())\n",
    "exp_var_2 = explained_variance_score(y_test, y_pred, sample_weight=weights)\n",
    "\n",
    "print(\"Explained variance:\", exp_var)\n",
    "print(\"Maximum error:\", max_err)\n"
   ]
  },
  {
   "cell_type": "code",
   "execution_count": 215,
   "id": "6ac02e93",
   "metadata": {
    "ExecuteTime": {
     "end_time": "2024-12-12T13:45:40.062917Z",
     "start_time": "2024-12-12T13:45:40.055213Z"
    }
   },
   "outputs": [
    {
     "name": "stdout",
     "output_type": "stream",
     "text": [
      "Explained variance: None\n",
      "Maximum error: None\n",
      "Explained variance (Weighted): None\n"
     ]
    }
   ],
   "source": [
    "# Answers to the assignment. Note! Do not edit this cell, just run it after you complete the assignment.\n",
    "# Save responses in exp_var and max_err variables.\n",
    "\n",
    "#print(f'Test length: {len(X_test)}')\n",
    "#print(f'Train length: {len(X_train)}')\n",
    "#print(f'Train columns: {X_train.columns}')\n",
    "#print(f'Train columns length: {len(X_train.columns)}')\n",
    "#print(f'Predict 5 items: {y_pred[:5]} ... {y_pred[-5:]}')\n",
    "\n",
    "exp_var = max_err = exp_var_2 = None\n",
    "\n",
    "print(f'Explained variance: {exp_var}')\n",
    "print(f'Maximum error: {max_err}')\n",
    "print(f'Explained variance (Weighted): {exp_var_2}')"
   ]
  },
  {
   "cell_type": "markdown",
   "id": "8089f363",
   "metadata": {},
   "source": [
    "**Explained variance** refers to the variance in the response variable in a model that can be explained by the predictor variable(s) in the model.\n",
    "The higher the explained variance of a model, the more the model is able to explain the variation in the data.\n",
    "\n",
    "Calculate and analyze the explained variance for the assignment."
   ]
  },
  {
   "cell_type": "code",
   "execution_count": 217,
   "id": "b3374023",
   "metadata": {
    "ExecuteTime": {
     "end_time": "2024-12-12T13:45:40.122112Z",
     "start_time": "2024-12-12T13:45:40.115630Z"
    },
    "lines_to_next_cell": 2
   },
   "outputs": [
    {
     "name": "stdout",
     "output_type": "stream",
     "text": [
      "Explained variance (Weighted): 0.2337387273253032\n",
      "Explained variance (Weighted): 0.2337387273253032\n"
     ]
    }
   ],
   "source": [
    "# TODO: Explained variance\n",
    "\n",
    "weights = X_test['targeted_productivity']\n",
    "weights = (weights - weights.min()) / (weights.max() - weights.min())\n",
    "weights = weights + 1e-5\n",
    "\n",
    "exp_var_2 = explained_variance_score(y_test, y_pred, sample_weight=weights)\n",
    "exp_var_weighted = exp_var_2 \n",
    "\n",
    "print(f'Explained variance (Weighted): {exp_var_2}')\n",
    "print(f'Explained variance (Weighted): {exp_var_weighted}')"
   ]
  },
  {
   "cell_type": "markdown",
   "id": "7475d503",
   "metadata": {},
   "source": [
    "## Classification using Random Forest\n",
    "\n",
    "1. Create training and testing data. Use random seed `2150`. Note that the `class` variable is now predicted.\n",
    "\n",
    "2. Use the [functions](https://scikit-learn.org/stable/modules/classes.html#module-sklearn.ensemble) from `ensemble` module\n",
    "of the `scikit-learn` library and create a classification model using a random forest. Use random seed `2100`. So let's try to predict the class variable `class`.\n",
    "\n",
    "3. Predict `class` from the test data. Generate the accuracy report `cr` and the confusion matrix `cm` using the tools in the `metrics` module of the library."
   ]
  },
  {
   "cell_type": "code",
   "execution_count": 218,
   "id": "eabe4708",
   "metadata": {
    "ExecuteTime": {
     "end_time": "2024-12-12T13:45:43.215151Z",
     "start_time": "2024-12-12T13:45:40.137077Z"
    }
   },
   "outputs": [],
   "source": [
    "# TODO: Write your code in this cell\n",
    "from sklearn.model_selection import train_test_split\n",
    "from sklearn.ensemble import RandomForestClassifier\n",
    "from sklearn.metrics import classification_report, confusion_matrix\n",
    "\n",
    "X = df_cleaned.drop(['actual_productivity', 'class'], axis=1)\n",
    "y = df_cleaned['class']\n",
    "\n",
    "X_train, X_test, y_train, y_test = train_test_split(\n",
    "    X, y, \n",
    "    test_size=0.33, \n",
    "    random_state=2150)\n",
    "\n",
    "rf = RandomForestClassifier(random_state=2100)\n",
    "rf.fit(X_train, y_train)\n",
    "\n",
    "y_pred = rf.predict(X_test)\n",
    "\n",
    "cr = classification_report(y_test, y_pred)\n",
    "cm = confusion_matrix(y_test, y_pred)"
   ]
  },
  {
   "cell_type": "code",
   "execution_count": 219,
   "id": "938b9e5e",
   "metadata": {
    "ExecuteTime": {
     "end_time": "2024-12-12T13:45:44.389278Z",
     "start_time": "2024-12-12T13:45:43.227328Z"
    }
   },
   "outputs": [
    {
     "name": "stdout",
     "output_type": "stream",
     "text": [
      "Test length: 396\n",
      "Train length: 801\n",
      "              precision    recall  f1-score   support\n",
      "\n",
      "           0       0.92      0.87      0.90       287\n",
      "           1       0.71      0.81      0.76       109\n",
      "\n",
      "    accuracy                           0.86       396\n",
      "   macro avg       0.82      0.84      0.83       396\n",
      "weighted avg       0.86      0.86      0.86       396\n",
      "\n",
      "[[251  36]\n",
      " [ 21  88]]\n"
     ]
    }
   ],
   "source": [
    "# Answers to the assignment. Note! Do not edit this cell, just run it after you complete the assignment.\n",
    "# The results are in cm and cr variables.\n",
    "print(f'Test length: {len(X_test)}')\n",
    "print(f'Train length: {len(X_train)}')\n",
    "print(cr)\n",
    "print(cm)"
   ]
  },
  {
   "cell_type": "markdown",
   "id": "ae5a7dd2",
   "metadata": {},
   "source": [
    "Show the importance of the features when using the **Random Forest Classifier** method."
   ]
  },
  {
   "cell_type": "code",
   "execution_count": 220,
   "id": "24912ca0",
   "metadata": {
    "ExecuteTime": {
     "end_time": "2024-12-12T13:47:22.315755Z",
     "start_time": "2024-12-12T13:47:22.310845Z"
    }
   },
   "outputs": [],
   "source": [
    "# TODO: the importance of features\n",
    "feature_importances = pd.DataFrame({\n",
    "   'feature': X.columns,\n",
    "   'importance': rf.feature_importances_\n",
    "}).sort_values('importance', ascending=False)"
   ]
  },
  {
   "cell_type": "code",
   "execution_count": 221,
   "id": "864f5c9e",
   "metadata": {
    "ExecuteTime": {
     "end_time": "2024-12-12T13:47:22.340864Z",
     "start_time": "2024-12-12T13:47:22.335708Z"
    }
   },
   "outputs": [
    {
     "data": {
      "image/png": "[encoded data removed]",
      "text/plain": [
       "<Figure size 1000x600 with 1 Axes>"
      ]
     },
     "metadata": {},
     "output_type": "display_data"
    }
   ],
   "source": [
    "# TODO: Visualize the importance of features\n",
    "import matplotlib.pyplot as plt\n",
    "\n",
    "plt.figure(figsize=(10, 6))\n",
    "plt.bar(feature_importances['feature'], feature_importances['importance'])\n",
    "plt.xticks(rotation=45, ha='right')\n",
    "plt.title('Feature Importance (Random Forest Classifier)')\n",
    "plt.xlabel('Features')\n",
    "plt.ylabel('Importance')\n",
    "plt.tight_layout()\n",
    "plt.show()"
   ]
  },
  {
   "cell_type": "markdown",
   "id": "b16da385",
   "metadata": {},
   "source": [
    "## Regression using Random Forest Regressor"
   ]
  },
  {
   "cell_type": "code",
   "execution_count": 223,
   "id": "c477333d",
   "metadata": {
    "ExecuteTime": {
     "end_time": "2024-12-12T13:47:22.364623Z",
     "start_time": "2024-12-12T13:47:22.358063Z"
    }
   },
   "outputs": [],
   "source": [
    "# TODO: Write your code in this cell\n",
    "# TODO: use Random Forest Regressor\n",
    "from sklearn.ensemble import RandomForestRegressor\n",
    "\n",
    "X = df_cleaned.drop(['actual_productivity', 'class'], axis=1)\n",
    "y = df_cleaned['actual_productivity']\n",
    "\n",
    "X_train, X_test, y_train, y_test = train_test_split(\n",
    "    X, y, \n",
    "    test_size=0.33, \n",
    "    random_state=2150)\n",
    "\n",
    "rf_reg = RandomForestRegressor(random_state=2100)\n",
    "rf_reg.fit(X_train, y_train)\n",
    "\n",
    "y_pred = rf_reg.predict(X_test)\n",
    "\n",
    "exp_var = explained_variance_score(y_test, y_pred)\n",
    "max_err = max_error(y_test, y_pred)"
   ]
  },
  {
   "cell_type": "code",
   "execution_count": 224,
   "id": "dbf457f2",
   "metadata": {
    "ExecuteTime": {
     "end_time": "2024-12-12T13:47:22.411689Z",
     "start_time": "2024-12-12T13:47:22.405079Z"
    },
    "lines_to_next_cell": 2
   },
   "outputs": [
    {
     "name": "stdout",
     "output_type": "stream",
     "text": [
      "Explained variance: 0.39105268938550586\n",
      "Maximum error: 3.5976576333527537\n"
     ]
    }
   ],
   "source": [
    "# Answers to the assignment. Note! Do not edit this cell, just run it after you complete the assignment.\n",
    "# Save responses in exp_var and max_err and exp_var_2 variables.\n",
    "\n",
    "print(f'Explained variance: {exp_var}')\n",
    "print(f'Maximum error: {max_err}')"
   ]
  },
  {
   "cell_type": "markdown",
   "id": "ea25d8f7",
   "metadata": {},
   "source": [
    "**Explained variance** refers to the variance in the response variable in a model that can be explained by the predictor variable(s) in the model.\n",
    "The higher the explained variance of a model, the more the model is able to explain the variation in the data.\n",
    "\n",
    "Calculate and analyze the explained variance for the assignment."
   ]
  },
  {
   "cell_type": "code",
   "execution_count": 225,
   "id": "dc74bdd3",
   "metadata": {
    "ExecuteTime": {
     "end_time": "2024-12-12T13:47:22.425481Z",
     "start_time": "2024-12-12T13:47:22.419672Z"
    },
    "lines_to_next_cell": 2
   },
   "outputs": [
    {
     "name": "stdout",
     "output_type": "stream",
     "text": [
      "Explained variance (Weighted): 0.3634352048994911\n",
      "Explained variance (Weighted): 0.3634352048994911\n"
     ]
    }
   ],
   "source": [
    "# TODO: Explained variance\n",
    "\n",
    "weights = X_test['targeted_productivity']\n",
    "\n",
    "weights = (weights - weights.min()) / (weights.max() - weights.min())\n",
    "exp_var_2 = explained_variance_score(y_test, y_pred, sample_weight=weights)\n",
    "exp_var_weighted = exp_var_2\n",
    "\n",
    "print(f'Explained variance (Weighted): {exp_var_2}')\n",
    "print(f'Explained variance (Weighted): {exp_var_weighted}')"
   ]
  },
  {
   "cell_type": "markdown",
   "id": "6f09492e",
   "metadata": {},
   "source": [
    "Show the **importance of the features** when using **Random Forest Regressor** method."
   ]
  },
  {
   "cell_type": "code",
   "execution_count": 226,
   "id": "69fbb217",
   "metadata": {
    "ExecuteTime": {
     "end_time": "2024-12-12T13:47:22.456114Z",
     "start_time": "2024-12-12T13:47:22.451635Z"
    }
   },
   "outputs": [],
   "source": [
    "# TODO: the importance of features with Random Forest Regressor\n",
    "feature_importances = pd.DataFrame({\n",
    "   'feature': X.columns,\n",
    "   'importance': rf_reg.feature_importances_\n",
    "}).sort_values('importance', ascending=False)"
   ]
  },
  {
   "cell_type": "code",
   "execution_count": 227,
   "id": "f168aeaa",
   "metadata": {
    "ExecuteTime": {
     "end_time": "2024-12-12T13:47:22.474672Z",
     "start_time": "2024-12-12T13:47:22.470884Z"
    }
   },
   "outputs": [
    {
     "data": {
      "image/png": "[encoded data removed]",
      "text/plain": [
       "<Figure size 1000x600 with 1 Axes>"
      ]
     },
     "metadata": {},
     "output_type": "display_data"
    }
   ],
   "source": [
    "# TODO: Visualize the importance of features\n",
    "plt.figure(figsize=(10, 6))\n",
    "plt.bar(feature_importances['feature'], feature_importances['importance'])\n",
    "plt.xticks(rotation=45, ha='right')\n",
    "plt.title('Feature Importance (Random Forest Regressor)')\n",
    "plt.xlabel('Features')\n",
    "plt.ylabel('Importance')\n",
    "plt.tight_layout()\n",
    "plt.show()"
   ]
  },
  {
   "cell_type": "markdown",
   "id": "61580fc8",
   "metadata": {
    "lines_to_next_cell": 2
   },
   "source": [
    "## Analysis of results\n",
    "\n",
    "The explained variance with linear regression is 0.252, whereas it is 0.391 with random forest. Maximum error was 3.043 and 3.598 respectfully. Finally, the weighted explained variance was 0.234 with linear regression and 0.363 with random forest. The results show, that random forest performed clearly better regarding explained variance and could better model unlinear relationships. However, linear regression had a little smaller maximum error.\n",
    "\n",
    "Other good regression models for this dataset could include gradient boosting methods, which are well suitable for unlinear relationships. Also, support vector regression work, neural networks and ensemble methods might be a good choice for this dataset."
   ]
  }
 ],
 "metadata": {
  "jupytext": {
   "cell_metadata_filter": "-all",
   "main_language": "python",
   "notebook_metadata_filter": "-all"
  },
  "kernelspec": {
   "display_name": "Python 3 (ipykernel)",
   "language": "python",
   "name": "python3"
  },
  "language_info": {
   "codemirror_mode": {
    "name": "ipython",
    "version": 3
   },
   "file_extension": ".py",
   "mimetype": "text/x-python",
   "name": "python",
   "nbconvert_exporter": "python",
   "pygments_lexer": "ipython3",
   "version": "3.13.2"
  }
 },
 "nbformat": 4,
 "nbformat_minor": 5
}
